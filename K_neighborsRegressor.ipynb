{
  "nbformat": 4,
  "nbformat_minor": 0,
  "metadata": {
    "colab": {
      "name": "K-neighborsRegressor.ipynb",
      "provenance": [],
      "collapsed_sections": [],
      "authorship_tag": "ABX9TyMmkKZN/jI3BPt9K0HDIW7i",
      "include_colab_link": true
    },
    "kernelspec": {
      "name": "python3",
      "display_name": "Python 3"
    },
    "language_info": {
      "name": "python"
    }
  },
  "cells": [
    {
      "cell_type": "markdown",
      "metadata": {
        "id": "view-in-github",
        "colab_type": "text"
      },
      "source": [
        "<a href=\"https://colab.research.google.com/github/junojano/Machine-Learning/blob/main/K_neighborsRegressor.ipynb\" target=\"_parent\"><img src=\"https://colab.research.google.com/assets/colab-badge.svg\" alt=\"Open In Colab\"/></a>"
      ]
    },
    {
      "cell_type": "markdown",
      "source": [
        " \n",
        " 회귀 알고리즘과 모델 규제\n",
        "\n",
        "\n",
        "회귀(regression) : 클래스 중 하나로 분류하는 것이 아니라 임의의 어떤 숫자를 예측하는 문제\n",
        "\n",
        "K-최근접 이웃분류 vs k-최근접 이웃 회귀: k-최근접 이웃알고리즘을 사용해 각각 분류 문제와 회귀 문제를 해결하는 방법\n",
        "\n",
        "\n",
        "k-최근접 이웃 분류: 최근접 이웃 네모 2개, 세모 1개 따라서 x의 클래스는 네모\n",
        "\n",
        "\n",
        "\n",
        "k-최근접 이웃 회귀: 최근접 이웃은 100, 80, 60 따라서 x는 \n",
        "\n",
        "\n",
        "(100 + 80 + 60)/3 = 80\n"
      ],
      "metadata": {
        "id": "vYrx274GMT03"
      }
    },
    {
      "cell_type": "code",
      "execution_count": 2,
      "metadata": {
        "id": "Fl52spS9FXCj"
      },
      "outputs": [],
      "source": [
        "# 3-1 회귀 문제 다루기_K-최근접 이웃 회귀\n",
        "\n",
        "## 데이터 준비\n",
        "\n",
        "import numpy as np\n",
        "perch_length = np.array([8.4, 13.7, 15.0, 16.2, 17.4, 18.0, 18.7, 19.0, 19.6, 20.0, \n",
        "                        21.0, 21.0, 21.0, 21.3, 22.0, 22.0, 22.0, 22.0, 22.0, 2.5, \n",
        "                        22.5, 22.7, 23.0, 23.5, 24.0, 24.0, 24.6, 25.0, 25.6, 26.5, \n",
        "                        27.3, 27.5, 27.5, 27.5, 28.0, 28.7, 30.0, 32.8, 34.5, 35.0, \n",
        "                        36.5, 36.0, 37.0, 37.0, 39.0, 39.0, 39.0, 40.0, 40.0, 40.0, \n",
        "                        40.0, 42.0, 43.0, 43.0, 43.5, 44.0])\n",
        "\n",
        "perch_weight = np.array([5.9, 32.0, 40.0, 51.5, 70.0, 100.0, 78.0, 80.0, 85.0, 85.0,\n",
        "                         110.0, 115.0, 125.0, 130.0, 120.0, 120.0, 130.0, 135.0, 110.0,\n",
        "                         130.0, 150.0, 145.0, 150.0, 170.0, 225.0, 145.0, 188.0, 180.0,\n",
        "                         197.0, 218.0, 300.0, 260.0, 265.0, 250.0, 250.0, 300.0, 320.0,\n",
        "                         514.0, 556.0, 840.0, 685.0, 700.0, 700.0, 690.0, 900.0, 650.0,\n",
        "                         820.0, 850.0, 900.0, 1015.0, 820.0, 1100.0, 1000.0, 1100.0, \n",
        "                         1000.0, 1000.0,])"
      ]
    },
    {
      "cell_type": "code",
      "source": [
        "import matplotlib.pyplot as plt\n",
        "plt.scatter(perch_length,perch_weight)  # 데이터를 산점도로 표시 \n",
        "plt.xlabel('length')\n",
        "plt.ylabel('weight')\n",
        "plt.show()"
      ],
      "metadata": {
        "id": "BXeRrZlDMMyV",
        "colab": {
          "base_uri": "https://localhost:8080/",
          "height": 278
        },
        "outputId": "f3e6e23e-71d7-4939-b327-b8b6868b6c43"
      },
      "execution_count": 5,
      "outputs": [
        {
          "output_type": "display_data",
          "data": {
            "text/plain": [
              "<Figure size 432x288 with 1 Axes>"
            ],
            "image/png": "[encoded data removed]"
          },
          "metadata": {
            "needs_background": "light"
          }
        }
      ]
    },
    {
      "cell_type": "code",
      "source": [
        "from sklearn.model_selection import train_test_split # train 훈련 세트 test 테스트 세트로 나누기 \n",
        "train_input, test_input, train_target, test_target = train_test_split(perch_length,perch_weight, random_state=42)"
      ],
      "metadata": {
        "id": "QN7y4g_mQ0_y"
      },
      "execution_count": 7,
      "outputs": []
    },
    {
      "cell_type": "code",
      "source": [
        "#사이킷런에서 사용할 훈련세트는 2차원 배열, 현재 훈련,테스트 세트는 1차원 배열이므로 변경 \n",
        "\n",
        "train_input = train_input.reshape(-1,1) # reshape 란 배열의 크기를 지정, 크기에 -1을 지정하면 나머지 원소 개수로 모두 채우게 됨 \n",
        "test_input = test_input.reshape(-1,1)\n",
        "print(train_input.shape,test_input.shape) # 변수.shape 는 행과 열을 추출"
      ],
      "metadata": {
        "colab": {
          "base_uri": "https://localhost:8080/"
        },
        "id": "0IxLGzCDQ1RD",
        "outputId": "bbf7267d-aab3-4fc1-ad0f-53a5be5b63da"
      },
      "execution_count": 9,
      "outputs": [
        {
          "output_type": "stream",
          "name": "stdout",
          "text": [
            "(42, 1) (14, 1)\n"
          ]
        }
      ]
    },
    {
      "cell_type": "code",
      "source": [
        "#결정계수 (R^2) \n",
        "#사이킷런에서  k - 최근접 이웃 회귀 알고리즘을 구현한 클래스_KNeighborRegressor\n",
        "from sklearn.neighbors import KNeighborsRegressor\n",
        "knr = KNeighborsRegressor()\n",
        "\n",
        "# k - 최근접 이웃 회귀 모델을 훈련 \n",
        "knr.fit(train_input,train_target)\n",
        "\n",
        "print(knr.score(test_input,test_target)) # 테스트 점수를 확인해보자 값은 정확도 , 정답을 맞힌 개수의 비율 \n"
      ],
      "metadata": {
        "colab": {
          "base_uri": "https://localhost:8080/"
        },
        "id": "nisYAX2tQ1Vr",
        "outputId": "89cea1dd-8628-414c-cb68-bbdff3bafc1f"
      },
      "execution_count": 10,
      "outputs": [
        {
          "output_type": "stream",
          "name": "stdout",
          "text": [
            "0.9893480173587588\n"
          ]
        }
      ]
    },
    {
      "cell_type": "markdown",
      "source": [
        "결정 계수가 1에 가까울 수록 양의 상관 관계이다 \n"
      ],
      "metadata": {
        "id": "GS23lpvLYCLO"
      }
    },
    {
      "cell_type": "code",
      "source": [
        "#타깃과 예측한 값 사이의 차이를 구해 보면 예측에서 얼마나 오차가 났는지 가늠하기 유용하다 \n",
        "#결과는 타깃값과 얼마나 다른지 알 수 있다.\n",
        "\n",
        "from sklearn.metrics import mean_absolute_error\n",
        "\n",
        "#테스트 세트에 대한 예측을 만듦\n",
        "test_prediction = knr.predict(test_input)\n",
        "\n",
        "#테스트 세트에 대한 평균 절댓값 오차를 계산함 \n",
        "mae = mean_absolute_error(test_target, test_prediction)\n",
        "print(mae)"
      ],
      "metadata": {
        "colab": {
          "base_uri": "https://localhost:8080/"
        },
        "id": "3ZnlD9EFYQ8C",
        "outputId": "55bf8436-3036-4448-a817-1eb34c081f65"
      },
      "execution_count": 14,
      "outputs": [
        {
          "output_type": "stream",
          "name": "stdout",
          "text": [
            "23.72857142857143\n"
          ]
        }
      ]
    },
    {
      "cell_type": "code",
      "source": [
        "##  과대적합 vs 과소적합\n",
        "\n",
        "# 앞에서 훈련한 모델을 사용해 훈련 세트의 R^2 점수를 확인\n",
        "print(knr.score(train_input, train_target))\n",
        "\n",
        "# 훈련세트보다 테스트 세트(0.9893480173587588)의 점수가 높으니 과소적합!"
      ],
      "metadata": {
        "colab": {
          "base_uri": "https://localhost:8080/"
        },
        "id": "m3iHfOJFZatv",
        "outputId": "925ed6bb-f3d6-4dfb-8005-8a34ebf47150"
      },
      "execution_count": 15,
      "outputs": [
        {
          "output_type": "stream",
          "name": "stdout",
          "text": [
            "0.9698823289099254\n"
          ]
        }
      ]
    },
    {
      "cell_type": "code",
      "source": [
        "#과소적합일 경우 모델을 조금 더 복잡하게 만들면 해결이 가능!!\n",
        "# k-최근접 이웃 알고리즘 모델을 더 복잡하게 만드는 방법은 이웃의 개수 k를 줄이기\n",
        "\n",
        "# 이웃의 개수는 기본 5로 설정되어있는데 3으로 변경\n",
        "knr.n_neighbors = 3\n",
        "\n",
        "# 모델을 다시 훈련 \n",
        "knr.fit(train_input,train_target)\n",
        "print(knr.score(train_input,train_target))\n",
        "# k값을 줄였더니 훈련 세트의 R^2 점수가 높아졌다! 0.9698823289099255 -> 0.9804899950518966"
      ],
      "metadata": {
        "colab": {
          "base_uri": "https://localhost:8080/"
        },
        "id": "QkuEubVnZ2l3",
        "outputId": "fc9ec80b-eda7-4359-cf6f-731c2c8627d1"
      },
      "execution_count": 18,
      "outputs": [
        {
          "output_type": "stream",
          "name": "stdout",
          "text": [
            "0.9804899950518966\n"
          ]
        }
      ]
    },
    {
      "cell_type": "code",
      "source": [
        "# 테스트 세트의 점수를 확인\n",
        "print(knr.score(test_input, test_target))\n",
        "\n",
        "# 과소적합을 해결\n",
        "# 훈련 세트의 점수 0.9804899950518966 , 테스트 세트의 점수 0.9699093591724484"
      ],
      "metadata": {
        "colab": {
          "base_uri": "https://localhost:8080/"
        },
        "id": "1-1_g1Q0a9uX",
        "outputId": "0be76fe5-9b71-4f21-a4a3-6d5797be7697"
      },
      "execution_count": 19,
      "outputs": [
        {
          "output_type": "stream",
          "name": "stdout",
          "text": [
            "0.9699093591724485\n"
          ]
        }
      ]
    }
  ]
}